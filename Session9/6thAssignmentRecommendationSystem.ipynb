{
 "cells": [
  {
   "cell_type": "markdown",
   "id": "10d4a240",
   "metadata": {},
   "source": [
    "![BTS](https://github.com/vfp1/bts-mbds-data-science-foundations-2019/raw/master/sessions/img/Logo-BTS.jpg)\n",
    "\n",
    "# Session 09: 6thAssignmentRecommendationSystem\n",
    "### Lenin Escobar - Data-driven Business\n",
    "Open this notebook in Google Colaboratory: [![Open in Colab](https://colab.research.google.com/assets/colab-badge.svg)](https://colab.research.google.com/github/lveagithub/bts-advanced-data-analysis-2020/blob/master/Assigments/AssociationRulesForMarketBasketAnalysis/AssociationRulesForMarketBasketAnalysis.ipynb)"
   ]
  },
  {
   "cell_type": "markdown",
   "id": "98870b8c",
   "metadata": {},
   "source": [
    "<p>Please create a recommendation system by using the same data in module 9th. It should be a hybrid solution of Content-Based, Collaborative Item-Based, and Collaborative User-Based. The expectation is the best 10 movie recommendations for user \"2\".\n",
    "\n",
    "Required submissions are the python code and two summary slides.</p>"
   ]
  },
  {
   "cell_type": "markdown",
   "id": "0bb1f633",
   "metadata": {},
   "source": [
    "<h1 style=\"background-color:powderblue;\">Setting Virtual Env</h1>"
   ]
  },
  {
   "cell_type": "code",
   "execution_count": null,
   "id": "cc2eb067",
   "metadata": {},
   "outputs": [],
   "source": [
    "# https://developers.google.com/api-client-library\n",
    "# https://github.com/googleapis/google-api-python-client"
   ]
  },
  {
   "cell_type": "code",
   "execution_count": 1,
   "id": "f0d4377f",
   "metadata": {},
   "outputs": [
    {
     "name": "stdout",
     "output_type": "stream",
     "text": [
      "Collecting virtualenv\n",
      "  Downloading virtualenv-20.4.6-py2.py3-none-any.whl (7.2 MB)\n",
      "\u001b[K     |████████████████████████████████| 7.2 MB 5.3 MB/s eta 0:00:01\n",
      "\u001b[?25hCollecting distlib<1,>=0.3.1\n",
      "  Downloading distlib-0.3.1-py2.py3-none-any.whl (335 kB)\n",
      "\u001b[K     |████████████████████████████████| 335 kB 7.0 MB/s eta 0:00:01\n",
      "\u001b[?25hRequirement already satisfied: appdirs<2,>=1.4.3 in /opt/conda/lib/python3.8/site-packages (from virtualenv) (1.4.4)\n",
      "Requirement already satisfied: six<2,>=1.9.0 in /opt/conda/lib/python3.8/site-packages (from virtualenv) (1.15.0)\n",
      "Collecting filelock<4,>=3.0.0\n",
      "  Downloading filelock-3.0.12-py3-none-any.whl (7.6 kB)\n",
      "Installing collected packages: filelock, distlib, virtualenv\n",
      "Successfully installed distlib-0.3.1 filelock-3.0.12 virtualenv-20.4.6\n"
     ]
    }
   ],
   "source": [
    "!pip install virtualenv"
   ]
  },
  {
   "cell_type": "code",
   "execution_count": 2,
   "id": "79b1c343",
   "metadata": {},
   "outputs": [],
   "source": [
    "!mkdir python-virtual-environments"
   ]
  },
  {
   "cell_type": "code",
   "execution_count": 3,
   "id": "38eb1aac",
   "metadata": {},
   "outputs": [],
   "source": [
    "!cd python-virtual-environments && python3 -m venv env"
   ]
  },
  {
   "cell_type": "code",
   "execution_count": 6,
   "id": "280aefdc",
   "metadata": {},
   "outputs": [
    {
     "name": "stdout",
     "output_type": "stream",
     "text": [
      "total 4\r\n",
      "drwxr-xr-x 5 jovyan users 4096 May 10 17:38 env\r\n"
     ]
    }
   ],
   "source": [
    "!ls -ltr python-virtual-environments/"
   ]
  },
  {
   "cell_type": "code",
   "execution_count": 7,
   "id": "1c49dacc",
   "metadata": {},
   "outputs": [],
   "source": [
    "!source python-virtual-environments/env/bin/activate"
   ]
  },
  {
   "cell_type": "code",
   "execution_count": 9,
   "id": "a3f8fe83",
   "metadata": {},
   "outputs": [
    {
     "name": "stdout",
     "output_type": "stream",
     "text": [
      "Collecting google-api-python-client\n",
      "  Downloading google_api_python_client-2.3.0-py2.py3-none-any.whl (7.1 MB)\n",
      "\u001b[K     |████████████████████████████████| 7.1 MB 6.5 MB/s eta 0:00:01\n",
      "\u001b[?25hCollecting google-auth-httplib2\n",
      "  Downloading google_auth_httplib2-0.1.0-py2.py3-none-any.whl (9.3 kB)\n",
      "Requirement already satisfied: google-auth-oauthlib in /opt/conda/lib/python3.8/site-packages (0.4.4)\n",
      "Requirement already satisfied: google-auth<2dev,>=1.16.0 in /opt/conda/lib/python3.8/site-packages (from google-api-python-client) (1.29.0)\n",
      "Collecting uritemplate<4dev,>=3.0.0\n",
      "  Downloading uritemplate-3.0.1-py2.py3-none-any.whl (15 kB)\n",
      "Collecting httplib2<1dev,>=0.15.0\n",
      "  Downloading httplib2-0.19.1-py3-none-any.whl (95 kB)\n",
      "\u001b[K     |████████████████████████████████| 95 kB 3.1 MB/s eta 0:00:01\n",
      "\u001b[?25hRequirement already satisfied: six<2dev,>=1.13.0 in /opt/conda/lib/python3.8/site-packages (from google-api-python-client) (1.15.0)\n",
      "Collecting google-api-core<2dev,>=1.21.0\n",
      "  Downloading google_api_core-1.26.3-py2.py3-none-any.whl (93 kB)\n",
      "\u001b[K     |████████████████████████████████| 93 kB 1.2 MB/s eta 0:00:01\n",
      "\u001b[?25hRequirement already satisfied: setuptools>=40.3.0 in /opt/conda/lib/python3.8/site-packages (from google-api-core<2dev,>=1.21.0->google-api-python-client) (49.6.0.post20210108)\n",
      "Requirement already satisfied: requests<3.0.0dev,>=2.18.0 in /opt/conda/lib/python3.8/site-packages (from google-api-core<2dev,>=1.21.0->google-api-python-client) (2.25.1)\n",
      "Collecting googleapis-common-protos<2.0dev,>=1.6.0\n",
      "  Downloading googleapis_common_protos-1.53.0-py2.py3-none-any.whl (198 kB)\n",
      "\u001b[K     |████████████████████████████████| 198 kB 3.4 MB/s eta 0:00:01\n",
      "\u001b[?25hRequirement already satisfied: packaging>=14.3 in /opt/conda/lib/python3.8/site-packages (from google-api-core<2dev,>=1.21.0->google-api-python-client) (20.9)\n",
      "Requirement already satisfied: pytz in /opt/conda/lib/python3.8/site-packages (from google-api-core<2dev,>=1.21.0->google-api-python-client) (2021.1)\n",
      "Requirement already satisfied: protobuf>=3.12.0 in /opt/conda/lib/python3.8/site-packages (from google-api-core<2dev,>=1.21.0->google-api-python-client) (3.15.8)\n",
      "Requirement already satisfied: cachetools<5.0,>=2.0.0 in /opt/conda/lib/python3.8/site-packages (from google-auth<2dev,>=1.16.0->google-api-python-client) (4.2.1)\n",
      "Requirement already satisfied: rsa<5,>=3.1.4 in /opt/conda/lib/python3.8/site-packages (from google-auth<2dev,>=1.16.0->google-api-python-client) (4.7.2)\n",
      "Requirement already satisfied: pyasn1-modules>=0.2.1 in /opt/conda/lib/python3.8/site-packages (from google-auth<2dev,>=1.16.0->google-api-python-client) (0.2.8)\n",
      "Requirement already satisfied: pyparsing<3,>=2.4.2 in /opt/conda/lib/python3.8/site-packages (from httplib2<1dev,>=0.15.0->google-api-python-client) (2.4.7)\n",
      "Requirement already satisfied: pyasn1<0.5.0,>=0.4.6 in /opt/conda/lib/python3.8/site-packages (from pyasn1-modules>=0.2.1->google-auth<2dev,>=1.16.0->google-api-python-client) (0.4.8)\n",
      "Requirement already satisfied: certifi>=2017.4.17 in /opt/conda/lib/python3.8/site-packages (from requests<3.0.0dev,>=2.18.0->google-api-core<2dev,>=1.21.0->google-api-python-client) (2020.6.20)\n",
      "Requirement already satisfied: chardet<5,>=3.0.2 in /opt/conda/lib/python3.8/site-packages (from requests<3.0.0dev,>=2.18.0->google-api-core<2dev,>=1.21.0->google-api-python-client) (4.0.0)\n",
      "Requirement already satisfied: urllib3<1.27,>=1.21.1 in /opt/conda/lib/python3.8/site-packages (from requests<3.0.0dev,>=2.18.0->google-api-core<2dev,>=1.21.0->google-api-python-client) (1.26.4)\n",
      "Requirement already satisfied: idna<3,>=2.5 in /opt/conda/lib/python3.8/site-packages (from requests<3.0.0dev,>=2.18.0->google-api-core<2dev,>=1.21.0->google-api-python-client) (2.10)\n",
      "Requirement already satisfied: requests-oauthlib>=0.7.0 in /opt/conda/lib/python3.8/site-packages (from google-auth-oauthlib) (1.3.0)\n",
      "Requirement already satisfied: oauthlib>=3.0.0 in /opt/conda/lib/python3.8/site-packages (from requests-oauthlib>=0.7.0->google-auth-oauthlib) (3.0.1)\n",
      "Installing collected packages: httplib2, googleapis-common-protos, uritemplate, google-auth-httplib2, google-api-core, google-api-python-client\n",
      "Successfully installed google-api-core-1.26.3 google-api-python-client-2.3.0 google-auth-httplib2-0.1.0 googleapis-common-protos-1.53.0 httplib2-0.19.1 uritemplate-3.0.1\n"
     ]
    }
   ],
   "source": [
    "!pip install --upgrade google-api-python-client google-auth-httplib2 google-auth-oauthlib"
   ]
  },
  {
   "cell_type": "markdown",
   "id": "5237daa9",
   "metadata": {},
   "source": [
    "<h1 style=\"background-color:powderblue;\">Google drive Conn Class</h1>"
   ]
  },
  {
   "cell_type": "code",
   "execution_count": null,
   "id": "9b1f00e5",
   "metadata": {},
   "outputs": [],
   "source": [
    "# According to Github best practices \n",
    "# (https://docs.github.com/en/github/managing-large-files/working-with-large-files): \n",
    "# GitHub limits the size of files allowed in repositories, \n",
    "# and will block a push to a repository if the files are larger than the maximum file limit.\n",
    "# So, I better use google drive for these cases "
   ]
  },
  {
   "cell_type": "code",
   "execution_count": 54,
   "id": "7f7a64a2",
   "metadata": {},
   "outputs": [],
   "source": [
    "from googleapiclient.discovery import build\n",
    "from googleapiclient.http import MediaIoBaseDownload\n",
    "from google.oauth2 import service_account\n",
    "import io\n",
    "import os"
   ]
  },
  {
   "cell_type": "code",
   "execution_count": 58,
   "id": "8dbbab41",
   "metadata": {},
   "outputs": [],
   "source": [
    "DATA_PATH = 'Data/'\n",
    "AUTHENTICATION_PATH = 'Authentication/'"
   ]
  },
  {
   "cell_type": "code",
   "execution_count": 59,
   "id": "4508b453",
   "metadata": {},
   "outputs": [],
   "source": [
    "#Safely create directories\n",
    "if not os.path.exists(DATA_PATH):\n",
    "    os.makedirs(DATA_PATH)\n",
    "\n",
    "if not os.path.exists(AUTHENTICATION_PATH):\n",
    "    os.makedirs(AUTHENTICATION_PATH)"
   ]
  },
  {
   "cell_type": "code",
   "execution_count": 28,
   "id": "81150af3",
   "metadata": {},
   "outputs": [],
   "source": [
    "#Following the Python name convention: https://www.python.org/dev/peps/pep-0008/#method-names-and-instance-variables"
   ]
  },
  {
   "cell_type": "code",
   "execution_count": 51,
   "id": "ba5f5767",
   "metadata": {},
   "outputs": [],
   "source": [
    "class GoogleDriveFiles():\n",
    "    \"\"\"Custom Google Drive Class\"\"\"\n",
    "    def __init__(self, credentials_file_name):\n",
    "        #https://console.cloud.google.com/iam-admin/serviceaccounts/details/113530738473514992506/keys?project=feisty-dolphin-313318\n",
    "        #https://console.cloud.google.com/apis/credentials?organizationId=0&project=feisty-dolphin-313318&supportedpurview=project\n",
    "        #https://console.cloud.google.com/apis/library/drive.googleapis.com?project=feisty-dolphin-313318\n",
    "        self.credentials_file_name = credentials_file_name # Credentials compatible with this API\n",
    "        self.credentials = service_account.Credentials.from_service_account_file(self.credentials_file_name) # Global Service Account Credentials\n",
    "    def download_file_from_gdrive(self,file_id, downloaded_file_name, verbose = False):\n",
    "        \"\"\"Get credentials from file\n",
    "        :return:boolean\n",
    "        \"\"\"\n",
    "        drive_service = build('drive', 'v3', credentials=self.credentials)\n",
    "\n",
    "        request = drive_service.files().get_media(fileId=file_id)\n",
    "        #fh = io.BytesIO() # this can be used to keep in memory\n",
    "        fh = io.FileIO(downloaded_file_name, 'wb') # this can be used to write to disk\n",
    "        downloader = MediaIoBaseDownload(fh, request)\n",
    "        done = False\n",
    "        while done is False:\n",
    "            status, done = downloader.next_chunk()\n",
    "            if verbose:\n",
    "                print (f'%{int(status.progress() * 100)} downloaded file: {downloaded_file_name}')\n",
    "                #print(\"Download %d%%.\" % int(status.progress() * 100)) \n",
    "        return done\n"
   ]
  },
  {
   "cell_type": "code",
   "execution_count": 52,
   "id": "0bf086bd",
   "metadata": {},
   "outputs": [
    {
     "name": "stdout",
     "output_type": "stream",
     "text": [
      "%100 downloaded file: Data/movie.csv\n",
      "True\n",
      "%100 downloaded file: Data/movies_metadata.csv\n",
      "True\n",
      "%15 downloaded file: Data/rating.csv\n",
      "%30 downloaded file: Data/rating.csv\n",
      "%45 downloaded file: Data/rating.csv\n",
      "%60 downloaded file: Data/rating.csv\n",
      "%75 downloaded file: Data/rating.csv\n",
      "%91 downloaded file: Data/rating.csv\n",
      "%100 downloaded file: Data/rating.csv\n",
      "True\n"
     ]
    }
   ],
   "source": [
    "#Google Drive- File\n",
    "\n",
    "#Class-methods params\n",
    "credentials_file_name = AUTHENTICATION_PATH + 'python_service.json'\n",
    "\n",
    "#Initializing Class\n",
    "google_drive = GoogleDriveFiles(credentials_file_name)\n",
    "\n",
    "#Downloading movie file\n",
    "file_id = '1vohRvV1h0_t3HAom1s7DYPktphisFSzD'\n",
    "movie_file_path = DATA_PATH + 'movie.csv'\n",
    "download_status = google_drive.download_file_from_gdrive(file_id, movie_file_path, verbose = True)\n",
    "print(download_status)\n",
    "\n",
    "#Downloading movies_metadata. file\n",
    "file_id = '1ivsaFIMHqKviywyGJGVQhXVrXkuDOGUo'\n",
    "movies_metadata_file_path = DATA_PATH + 'movies_metadata.csv'\n",
    "download_status = google_drive.download_file_from_gdrive(file_id, movies_metadata_file_path, verbose = True)\n",
    "print(download_status)\n",
    "\n",
    "#Downloading rating file\n",
    "file_id = '1vXPUmeZIrbrBJi8FJ7IDSrgTIeqO5skT'\n",
    "rating_file_path = DATA_PATH + 'rating.csv'\n",
    "download_status = google_drive.download_file_from_gdrive(file_id, rating_file_path, verbose = True)\n",
    "print(download_status)\n"
   ]
  },
  {
   "cell_type": "code",
   "execution_count": 27,
   "id": "2023f10a",
   "metadata": {},
   "outputs": [
    {
     "name": "stdout",
     "output_type": "stream",
     "text": [
      "total 717700\r\n",
      "-rwxr-xr-x 1 jovyan  1000 690353377 Apr 20 22:55  rating.csv\r\n",
      "-rw-rw-r-- 1 jovyan  1000   1493648 May 10 15:17  movie_tmp.csv\r\n",
      "-rw-rw-r-- 1 jovyan  1000  34445126 May 10 15:18  movies_metadata.csv\r\n",
      "-rw-rw-r-- 1 jovyan  1000   6953818 May 10 15:18 '6- Data_Driven_Business_21th_04_2021_Recommendation05Load.pdf'\r\n",
      "-rw-rw-r-- 1 jovyan  1000     38449 May 10 16:05  Recommendation03Load_Tmp.ipynb\r\n",
      "-rw-r--r-- 1 jovyan users      1806 May 10 17:06  6thAssignmentRecommendationSystem_Tmp.ipynb\r\n",
      "-rw-rw-r-- 1 jovyan  1000     99807 May 10 17:08  Recommendation03Load.ipynb\r\n",
      "drwxr-xr-x 3 jovyan users      4096 May 10 17:38  python-virtual-environments\r\n",
      "-rw-rw-r-- 1 jovyan  1000      2346 May 10 18:26  python_service.json\r\n",
      "-rw-r--r-- 1 jovyan users     12651 May 10 18:44  6thAssignmentRecommendationSystem.ipynb\r\n",
      "-rw-r--r-- 1 jovyan users   1493648 May 10 18:45  movie.csv\r\n"
     ]
    }
   ],
   "source": [
    "!ls -ltr"
   ]
  },
  {
   "cell_type": "code",
   "execution_count": null,
   "id": "4e439524",
   "metadata": {},
   "outputs": [],
   "source": []
  }
 ],
 "metadata": {
  "kernelspec": {
   "display_name": "Python 3",
   "language": "python",
   "name": "python3"
  },
  "language_info": {
   "codemirror_mode": {
    "name": "ipython",
    "version": 3
   },
   "file_extension": ".py",
   "mimetype": "text/x-python",
   "name": "python",
   "nbconvert_exporter": "python",
   "pygments_lexer": "ipython3",
   "version": "3.8.8"
  }
 },
 "nbformat": 4,
 "nbformat_minor": 5
}
