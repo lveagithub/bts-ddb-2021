{
 "cells": [
  {
   "cell_type": "markdown",
   "id": "65f0d2d4",
   "metadata": {},
   "source": [
    "![BTS](https://github.com/vfp1/bts-mbds-data-science-foundations-2019/raw/master/sessions/img/Logo-BTS.jpg)\n",
    "\n",
    "# Session 09: 6thAssignmentRecommendationSystem\n",
    "### Lenin Escobar - Data-driven Business\n",
    "Open this notebook in Google Colaboratory: [![Open in Colab](https://colab.research.google.com/assets/colab-badge.svg)](https://colab.research.google.com/github/lveagithub/bts-advanced-data-analysis-2020/blob/master/Assigments/AssociationRulesForMarketBasketAnalysis/AssociationRulesForMarketBasketAnalysis.ipynb)"
   ]
  },
  {
   "cell_type": "markdown",
   "id": "986433d1",
   "metadata": {},
   "source": [
    "<p>Please create a recommendation system by using the same data in module 9th. It should be a hybrid solution of Content-Based, Collaborative Item-Based, and Collaborative User-Based. The expectation is the best 10 movie recommendations for user \"2\".\n",
    "\n",
    "Required submissions are the python code and two summary slides.</p>"
   ]
  },
  {
   "cell_type": "code",
   "execution_count": null,
   "id": "1d1b8b38",
   "metadata": {},
   "outputs": [],
   "source": []
  },
  {
   "cell_type": "code",
   "execution_count": null,
   "id": "ceec3fe3",
   "metadata": {},
   "outputs": [],
   "source": []
  }
 ],
 "metadata": {
  "kernelspec": {
   "display_name": "Python 3",
   "language": "python",
   "name": "python3"
  },
  "language_info": {
   "codemirror_mode": {
    "name": "ipython",
    "version": 3
   },
   "file_extension": ".py",
   "mimetype": "text/x-python",
   "name": "python",
   "nbconvert_exporter": "python",
   "pygments_lexer": "ipython3",
   "version": "3.8.8"
  }
 },
 "nbformat": 4,
 "nbformat_minor": 5
}
